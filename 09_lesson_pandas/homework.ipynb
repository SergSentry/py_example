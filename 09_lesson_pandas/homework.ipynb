{
 "cells": [
  {
   "cell_type": "markdown",
   "id": "34e07753-7abd-4e82-8d4a-37f7e611f54a",
   "metadata": {},
   "source": [
    "### Урок 9. Работа с табличными данными"
   ]
  },
  {
   "cell_type": "code",
   "execution_count": 1,
   "id": "8ffb1afc-f7bf-4aeb-9e52-bd984dc8e56b",
   "metadata": {
    "tags": []
   },
   "outputs": [],
   "source": [
    "import pandas as pd"
   ]
  },
  {
   "cell_type": "markdown",
   "id": "0f7ea14c-5a73-4bd9-94a0-eff7b5603733",
   "metadata": {},
   "source": [
    "---"
   ]
  },
  {
   "cell_type": "markdown",
   "id": "3985ffd4-460d-4926-9f67-9f33286417c5",
   "metadata": {},
   "source": [
    "#### Source data"
   ]
  },
  {
   "cell_type": "code",
   "execution_count": 2,
   "id": "e6e24c8f-41d9-4aa8-9e56-18f9a3545435",
   "metadata": {
    "tags": []
   },
   "outputs": [],
   "source": [
    "df = pd.read_csv('sample_data/california_housing_train.csv')"
   ]
  },
  {
   "cell_type": "markdown",
   "id": "301a5b67-ae12-4339-85c5-0564479844a8",
   "metadata": {},
   "source": [
    "---"
   ]
  },
  {
   "cell_type": "markdown",
   "id": "88b18bd9-20c0-4e07-bb81-0b440999c3c7",
   "metadata": {},
   "source": [
    "Задача 40: Работать с файлом california_housing_train.csv, который находится в папке sample_data. Определить среднюю стоимость дома, где кол-во людей от 0 до 500 (population)."
   ]
  },
  {
   "cell_type": "code",
   "execution_count": 9,
   "id": "ffb8cab3-a37c-4960-a61b-d21c12107617",
   "metadata": {
    "tags": []
   },
   "outputs": [
    {
     "data": {
      "text/plain": [
       "housing_median_age    30.478548\n",
       "dtype: float64"
      ]
     },
     "execution_count": 9,
     "metadata": {},
     "output_type": "execute_result"
    }
   ],
   "source": [
    "df.loc[(df['population'] >= 0) & (df['population'] < 500) , ['housing_median_age'] ].mean()"
   ]
  },
  {
   "cell_type": "markdown",
   "id": "0bc3cde3-a35a-429b-9378-15f4f562f7c7",
   "metadata": {},
   "source": [
    "---"
   ]
  },
  {
   "cell_type": "markdown",
   "id": "37387f50-b99f-4dea-b5c5-dd100926a3d2",
   "metadata": {},
   "source": [
    "Задача 42: Узнать какая максимальная households в зоне минимального значения population."
   ]
  },
  {
   "cell_type": "code",
   "execution_count": 44,
   "id": "d786bb0f-f9d2-4f1a-a435-657d86d2e9b5",
   "metadata": {
    "tags": []
   },
   "outputs": [
    {
     "data": {
      "text/plain": [
       "households    3.0\n",
       "dtype: float64"
      ]
     },
     "execution_count": 44,
     "metadata": {},
     "output_type": "execute_result"
    }
   ],
   "source": [
    "min_population = df['population'].min()\n",
    "df.loc[(df['population'] == min_population) , ['households'] ].max()"
   ]
  }
 ],
 "metadata": {
  "kernelspec": {
   "display_name": "Python 3 (ipykernel)",
   "language": "python",
   "name": "python3"
  },
  "language_info": {
   "codemirror_mode": {
    "name": "ipython",
    "version": 3
   },
   "file_extension": ".py",
   "mimetype": "text/x-python",
   "name": "python",
   "nbconvert_exporter": "python",
   "pygments_lexer": "ipython3",
   "version": "3.10.10"
  }
 },
 "nbformat": 4,
 "nbformat_minor": 5
}
